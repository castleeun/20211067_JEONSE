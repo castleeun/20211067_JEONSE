{
  "nbformat": 4,
  "nbformat_minor": 0,
  "metadata": {
    "colab": {
      "provenance": [],
      "authorship_tag": "ABX9TyNhR3vXnNUDsn8fjD73t2Rx",
      "include_colab_link": true
    },
    "kernelspec": {
      "name": "python3",
      "display_name": "Python 3"
    },
    "language_info": {
      "name": "python"
    }
  },
  "cells": [
    {
      "cell_type": "markdown",
      "metadata": {
        "id": "view-in-github",
        "colab_type": "text"
      },
      "source": [
        "<a href=\"https://colab.research.google.com/github/castleeun/20211067_Jeonse/blob/main/1015_%EC%95%8C%EA%B3%A0%EB%A6%AC%EC%A6%98_20211067_%EC%A0%84%EC%84%B1%EC%9D%80_.ipynb\" target=\"_parent\"><img src=\"https://colab.research.google.com/assets/colab-badge.svg\" alt=\"Open In Colab\"/></a>"
      ]
    },
    {
      "cell_type": "code",
      "execution_count": 1,
      "metadata": {
        "id": "9AHsgqCqis6a"
      },
      "outputs": [],
      "source": [
        "#4-1 팩토리얼 하향식 축소 정복 기법\n",
        "def factorial_recur(n) : # 축소 정복 기법 : 하향식 접근\n",
        "  if n == 1 :\n",
        "    return 1\n",
        "  else :\n",
        "    return (n * factorial_recur(n - 1)) # 순환구조"
      ]
    },
    {
      "cell_type": "code",
      "source": [
        "#4-2 팩토리얼 상챵식 축소 정복 기법\n",
        "def factorial_iter(n) : #축소 정복 기법 : 상향식 접근\n",
        "  result = 1\n",
        "  for k in range(1,n+1) : #반복구조\n",
        "    result = result*k\n",
        "  return result"
      ],
      "metadata": {
        "id": "bJhrXoRDytLq"
      },
      "execution_count": 2,
      "outputs": []
    },
    {
      "source": [
        "#4-3 삽입정렬\n",
        "def insertion_sort(A) :\n",
        "  n = len(A)\n",
        "  for i in range(1, n) :\n",
        "    key = A[i]\n",
        "    j = i-1\n",
        "    while j>=0 and A[j] > key :\n",
        "      A[j + 1] = A[j]\n",
        "      j = j -1\n",
        "    A[j + 1] = key\n",
        "    print(f\"Step {i}: {A}\")\n",
        "\n",
        "data = [ 5, 3, 8, 4, 9, 1, 6, 2, 7 ]\n",
        "print(\"Original : \",data)\n",
        "insertion_sort(data)\n",
        "print(\"Insertion : \", data)"
      ],
      "cell_type": "code",
      "metadata": {
        "colab": {
          "base_uri": "https://localhost:8080/"
        },
        "id": "0D4CFr_m0ygH",
        "outputId": "e7c37fc1-0716-4d36-8a3f-bceeb3bed336"
      },
      "execution_count": 6,
      "outputs": [
        {
          "output_type": "stream",
          "name": "stdout",
          "text": [
            "Original :  [5, 3, 8, 4, 9, 1, 6, 2, 7]\n",
            "Step 1: [3, 5, 8, 4, 9, 1, 6, 2, 7]\n",
            "Step 2: [3, 5, 8, 4, 9, 1, 6, 2, 7]\n",
            "Step 3: [3, 4, 5, 8, 9, 1, 6, 2, 7]\n",
            "Step 4: [3, 4, 5, 8, 9, 1, 6, 2, 7]\n",
            "Step 5: [1, 3, 4, 5, 8, 9, 6, 2, 7]\n",
            "Step 6: [1, 3, 4, 5, 6, 8, 9, 2, 7]\n",
            "Step 7: [1, 2, 3, 4, 5, 6, 8, 9, 7]\n",
            "Step 8: [1, 2, 3, 4, 5, 6, 7, 8, 9]\n",
            "Insertion :  [1, 2, 3, 4, 5, 6, 7, 8, 9]\n"
          ]
        }
      ]
    },
    {
      "cell_type": "code",
      "source": [
        "#4-4 위상정렬 (축소 정복 기법)\n",
        "def topological_sort(graph) :\n",
        "  inDeg = {}\n",
        "  for v in graph :\n",
        "    inDeg[v] = 0\n",
        "  for v in graph :\n",
        "    for u in graph[v]:\n",
        "      inDeg[u] += 1\n",
        "\n",
        "  vlist = []\n",
        "  for v in graph :\n",
        "    if inDeg[v]==0 :\n",
        "      vlist.append(v)\n",
        "\n",
        "  while vlist :\n",
        "    v = vlist.pop()\n",
        "    print(v,end=' ')\n",
        "\n",
        "    for u in graph[v] :\n",
        "      inDeg[u] -= 1\n",
        "      if inDeg[u]==0 :\n",
        "        vlist.append(u)\n",
        "\n",
        "#알고리즘 테스트\n",
        "mygraph={\"A\":{\"C\",\"D\"},\"B\":{\"D\",\"E\"},\"C\":{\"D\",\"F\"},\"D\":{\"F\"},\"E\":{\"F\"},\"F\":{}}\n",
        "print(\"topological_sort : \")\n",
        "topological_sort(mygraph)\n",
        "print()"
      ],
      "metadata": {
        "colab": {
          "base_uri": "https://localhost:8080/"
        },
        "id": "eIsJxegu1Ila",
        "outputId": "ca7cca16-f6cc-4c02-a045-87109ee1ca1c"
      },
      "execution_count": 7,
      "outputs": [
        {
          "output_type": "stream",
          "name": "stdout",
          "text": [
            "topological_sort : \n",
            "B E A C D F \n"
          ]
        }
      ]
    },
    {
      "cell_type": "code",
      "source": [
        "#4-5\n",
        "def binary_search(A,key,low,high) :\n",
        "  if (low<=high) :\n",
        "    mid = (low+high)//2\n",
        "    if key == A[mid] :\n",
        "      return mid\n",
        "    elif key < A[mid] :\n",
        "      return binary_search(A,key,low,mid-1)\n",
        "    else:\n",
        "      return binary_search(A,key,mid+1,high)\n",
        "  return -1"
      ],
      "metadata": {
        "id": "-mgg50Kd2jTB"
      },
      "execution_count": 8,
      "outputs": []
    },
    {
      "cell_type": "code",
      "source": [
        "#4-6\n",
        "def binary_search_iter(A, key, low, high) :\n",
        "  while (low <= high) :\n",
        "    mid = (low + high) //2\n",
        "    if key == A[mid] :\n",
        "      return mid\n",
        "    elif key < A[mid] :\n",
        "      low = mid + 1\n",
        "    else :\n",
        "      high = mid - 1\n",
        "  return -1"
      ],
      "metadata": {
        "id": "23kbVUi129T_"
      },
      "execution_count": 14,
      "outputs": []
    },
    {
      "cell_type": "code",
      "source": [
        "#알고리즘 테스트\n",
        "listA = [1, 3, 8, 13, 13, 16, 21, 26, 27, 30, 33, 36, 39, 41, 44, 49]\n",
        "print(\"입력 리스트 =\", listA)\n",
        "print(\"33 탐색(순환) -->\", binary_search(listA, 33, 0, len(listA)-1) )\n",
        "print(\"33 탐색(반복) -->\", binary_search_iter(listA, 33, 0, len(listA)-1) )\n",
        "print(\"32 탐색(순환) -->\", binary_search(listA, 32, 0, len(listA)-1) )\n",
        "print(\"32 탐색(반복) -->\", binary_search_iter(listA, 32, 0, len(listA)-1) )"
      ],
      "metadata": {
        "colab": {
          "base_uri": "https://localhost:8080/"
        },
        "id": "wU3bhbrp3Wov",
        "outputId": "34a2cbeb-b062-4d48-eb0b-aa2d2fc49567"
      },
      "execution_count": 12,
      "outputs": [
        {
          "output_type": "stream",
          "name": "stdout",
          "text": [
            "입력 리스트 = [1, 3, 8, 13, 13, 16, 21, 26, 27, 30, 33, 36, 39, 41, 44, 49]\n",
            "33 탐색(순환) --> 10\n",
            "33 탐색(반복) --> -1\n",
            "32 탐색(순환) --> -1\n",
            "32 탐색(반복) --> -1\n"
          ]
        }
      ]
    },
    {
      "cell_type": "code",
      "source": [
        "#4-7 거듭제곱(억지 기법)\n",
        "def slow_power(x, n) :\n",
        "  result = 1.0\n",
        "  for i in range(n) :\n",
        "    result = result * x\n",
        "  return result"
      ],
      "metadata": {
        "id": "gcaW4opv4mn9"
      },
      "execution_count": 13,
      "outputs": []
    },
    {
      "cell_type": "code",
      "source": [
        "#4-8 거듭제곱(축소 정복 기법)\n",
        "def power(x, n) :\n",
        "  if n == 0 :\n",
        "    return 1.0\n",
        "  elif (n % 2) == 0 :\n",
        "    return power(x*x, n//2)\n",
        "  else :\n",
        "    return x * power(x*x, (n-1)//2)"
      ],
      "metadata": {
        "id": "mnRNiuFG4yts"
      },
      "execution_count": 15,
      "outputs": []
    },
    {
      "cell_type": "code",
      "source": [
        "#알고리즘 테스트\n",
        "import time\n",
        "print(\"억지기법(2**500) =\", power(2.0, 500))\n",
        "print(\"축소정복기법(2**500) =\", slow_power(2.0, 500))\n",
        "\n",
        "t1 = time.time()\n",
        "for i in range(100000) : power(2.0, 500)\n",
        "t2 = time.time()\n",
        "for i in range(100000) : slow_power(2.0, 500)\n",
        "t3 = time.time()\n",
        "\n",
        "print(\"억지기법 시간 =\", t3-t2)\n",
        "print(\"축소정복기법 시간 =\", t2-t1)\n"
      ],
      "metadata": {
        "colab": {
          "base_uri": "https://localhost:8080/"
        },
        "id": "Lerc0X-Y5Qvo",
        "outputId": "a0eefb7b-d086-4c56-911e-61e9e701d93c"
      },
      "execution_count": 16,
      "outputs": [
        {
          "output_type": "stream",
          "name": "stdout",
          "text": [
            "억지기법(2**500) = 3.273390607896142e+150\n",
            "축소정복기법(2**500) = 3.273390607896142e+150\n",
            "억지기법 시간 = 3.4699814319610596\n",
            "축소정복기법 시간 = 0.23036599159240723\n"
          ]
        }
      ]
    },
    {
      "cell_type": "code",
      "source": [
        "#4-9 행렬의 거듭제곱(축소 정복 기법)\n",
        "def powerMat(x, n) :\n",
        "  if n == 1 :\n",
        "    return x\n",
        "  elif (n % 2) == 0 :\n",
        "    return powerMat(multMat(x*x), n//2)\n",
        "  else :\n",
        "    return multMat(x, powerMat(multMat(x,x), (n-1)//2))"
      ],
      "metadata": {
        "id": "e5KMU1O15Qdn"
      },
      "execution_count": 20,
      "outputs": []
    },
    {
      "cell_type": "code",
      "source": [
        "#4-10 정렬을 이용한 k번째 작은 수 찾기\n",
        "def kth_smallest_sort(A, k):\n",
        "  A.sort()\n",
        "  return A[k-1]"
      ],
      "metadata": {
        "id": "bAE_JX-16eNP"
      },
      "execution_count": 21,
      "outputs": []
    },
    {
      "cell_type": "code",
      "source": [
        "#4-11 축소 정복 기법을 이용한 k번째 작은 수 찾기\n",
        "def quick_select(A, left, right, k):\n",
        "  pos = partition(A, left, right)\n",
        "\n",
        "  if (pos+1 == left+k):\n",
        "    return A[pos]\n",
        "  elif (pos+1 > left+k):\n",
        "    return quick_select(A, left, pos-1, k)\n",
        "  else:\n",
        "    return quick_select(A, pos+1, right, k-(pos+1-left))"
      ],
      "metadata": {
        "id": "XAotb2_X6vaY"
      },
      "execution_count": 22,
      "outputs": []
    },
    {
      "cell_type": "code",
      "source": [
        "#4-12 리스트 분할\n",
        "def partition(A, left, right) :\n",
        "  low=left+1\n",
        "  high=right\n",
        "  pivot=A[left]\n",
        "  while(low<=high):\n",
        "    while(low<=right and A[low]<pivot):\n",
        "      low+=1\n",
        "    while(high>=left+1 and A[high]>pivot):\n",
        "      high-=1\n",
        "    if low<high:\n",
        "      A[low],A[high]=A[high],A[low]\n",
        "\n",
        "    A[left],A[high]=A[high],A[left]\n",
        "  return high"
      ],
      "metadata": {
        "id": "V6Mgl4oL7KdN"
      },
      "execution_count": 26,
      "outputs": []
    },
    {
      "cell_type": "code",
      "source": [
        "#k번째 작은 수 알고리즘 테스트\n",
        "array = [12, 3, 5, 7, 4, 19, 26, 23, 15]\n",
        "print(\"입력 리스트 =\", array)\n",
        "print(\"[정렬기법] 3번째 작은 수: \", kth_smallest_sort(array, 3))\n",
        "print(\"[정렬기법] 6번째 작은 수: \", kth_smallest_sort(array, 6))\n",
        "n = len(array)\n",
        "print(\"[축소정복] 3번째 작은 수: \", quick_select(array, 0, n-1, 3))\n",
        "print(\"[축소정복] 6번째 작은 수: \", quick_select(array, 0, n-1, 6))"
      ],
      "metadata": {
        "colab": {
          "base_uri": "https://localhost:8080/"
        },
        "id": "lHitif8n7sht",
        "outputId": "2ada3519-336a-4aff-a697-2bc719312f77"
      },
      "execution_count": 27,
      "outputs": [
        {
          "output_type": "stream",
          "name": "stdout",
          "text": [
            "입력 리스트 = [12, 3, 5, 7, 4, 19, 26, 23, 15]\n",
            "[정렬기법] 3번째 작은 수:  5\n",
            "[정렬기법] 6번째 작은 수:  15\n",
            "[축소정복] 3번째 작은 수:  5\n",
            "[축소정복] 6번째 작은 수:  15\n"
          ]
        }
      ]
    }
  ]
}